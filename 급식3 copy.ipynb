{
  "cells": [
    {
      "cell_type": "code",
      "execution_count": 18,
      "metadata": {
        "id": "tE9utMiCy8WY"
      },
      "outputs": [],
      "source": [
        "import pandas as pd\n",
        "import tensorflow as tf\n",
        "from sklearn.model_selection import train_test_split\n",
        "from sklearn.preprocessing import StandardScaler\n",
        "from tensorflow import keras\n"
      ]
    },
    {
      "cell_type": "code",
      "execution_count": 2,
      "metadata": {
        "id": "CvKKdM1K1NEq"
      },
      "outputs": [],
      "source": [
        "# 데이터 불러오기\n",
        "file_path = 'meal_dataset_example (2).csv'\n",
        "data = pd.read_csv(file_path, encoding='cp949')"
      ]
    },
    {
      "cell_type": "code",
      "execution_count": 3,
      "metadata": {
        "id": "GdqazLVn1WHa"
      },
      "outputs": [],
      "source": [
        "# 입력 (독립) 변수와 출력 (종속) 변수 분리\n",
        "X = data[['메뉴명', '칼로리', '탄수화물', '단백질', '지방', '요일', '날씨', '학교행사', '선호도', '제공인원']]\n",
        "y = data[['잔반량']]"
      ]
    },
    {
      "cell_type": "code",
      "execution_count": 4,
      "metadata": {
        "id": "BWZl_oIf1XgZ"
      },
      "outputs": [],
      "source": [
        "# 범주형 변수 원핫 인코딩\n",
        "X_encoded = pd.get_dummies(X, columns=['메뉴명', '요일', '날씨', '학교행사'])"
      ]
    },
    {
      "cell_type": "code",
      "execution_count": 5,
      "metadata": {
        "id": "TGOnvmSW1aic"
      },
      "outputs": [],
      "source": [
        "# 수치형 변수 정규화\n",
        "scaler = StandardScaler()\n",
        "num_cols = ['칼로리', '탄수화물', '단백질', '지방', '선호도', '제공인원']\n",
        "X_encoded[num_cols] = scaler.fit_transform(X_encoded[num_cols])"
      ]
    },
    {
      "cell_type": "code",
      "execution_count": 6,
      "metadata": {
        "id": "5hsV0V8X1jZg"
      },
      "outputs": [],
      "source": [
        "# 학습/검증 데이터 분리\n",
        "X_train, X_test, y_train, y_test = train_test_split(X_encoded, y, test_size=0.2, random_state=42)"
      ]
    },
    {
      "cell_type": "code",
      "execution_count": 7,
      "metadata": {
        "id": "A9_8BAHc1lqM"
      },
      "outputs": [],
      "source": [
        "# 모델 정의\n",
        "input_layer = tf.keras.layers.Input(shape=[X_encoded.shape[1]])\n",
        "dense = tf.keras.layers.Dense(10, activation='relu')(input_layer)\n",
        "output = tf.keras.layers.Dense(1)(dense)\n",
        "model = tf.keras.models.Model(inputs=input_layer, outputs=output)"
      ]
    },
    {
      "cell_type": "code",
      "execution_count": null,
      "metadata": {
        "colab": {
          "base_uri": "https://localhost:8080/"
        },
        "id": "KMQg4hTP1oF5",
        "outputId": "4911975e-7dcb-4cce-cbc8-950c8618c678"
      },
      "outputs": [
        {
          "name": "stdout",
          "output_type": "stream",
          "text": [
            "\u001b[1m1/1\u001b[0m \u001b[32m━━━━━━━━━━━━━━━━━━━━\u001b[0m\u001b[37m\u001b[0m \u001b[1m0s\u001b[0m 89ms/step - loss: 33737.7969\n"
          ]
        },
        {
          "data": {
            "text/plain": [
              "<keras.src.callbacks.history.History at 0x268d9555c50>"
            ]
          },
          "execution_count": 28,
          "metadata": {},
          "output_type": "execute_result"
        },
        {
          "ename": "",
          "evalue": "",
          "output_type": "error",
          "traceback": [
            "\u001b[1;31m현재 셀 또는 이전 셀에서 코드를 실행하는 동안 Kernel이 충돌했습니다. \n",
            "\u001b[1;31m셀의 코드를 검토하여 가능한 오류 원인을 식별하세요. \n",
            "\u001b[1;31m자세한 내용을 보려면 <a href='https://aka.ms/vscodeJupyterKernelCrash'>여기</a>를 클릭하세요. \n",
            "\u001b[1;31m자세한 내용은 Jupyter <a href='command:jupyter.viewOutput'>로그</a>를 참조하세요."
          ]
        }
      ],
      "source": [
        "# 모델 컴파일 및 학습\n",
        "model.compile(optimizer='adam', loss='mse')\n",
        "model.fit(X_train, y_train, epochs=1000, verbose=0)\n",
        "model.fit(X_train, y_train, epochs=1)"
      ]
    },
    {
      "cell_type": "code",
      "execution_count": 9,
      "metadata": {
        "colab": {
          "base_uri": "https://localhost:8080/"
        },
        "id": "fpCz9lam11lj",
        "outputId": "0d209b80-49d1-441f-c94d-bc98caa3d471"
      },
      "outputs": [
        {
          "name": "stdout",
          "output_type": "stream",
          "text": [
            "예측 결과 (테스트셋 일부):\n",
            "\u001b[1m1/1\u001b[0m \u001b[32m━━━━━━━━━━━━━━━━━━━━\u001b[0m\u001b[37m\u001b[0m \u001b[1m1s\u001b[0m 741ms/step\n",
            "[[1.0360899 ]\n",
            " [0.11951675]]\n",
            "실제 잔반량:\n",
            "[[80]\n",
            " [90]]\n"
          ]
        }
      ],
      "source": [
        "# 예측 예시\n",
        "print(\"예측 결과 (테스트셋 일부):\")\n",
        "print(model.predict(X_test[:5]))\n",
        "print(\"실제 잔반량:\")\n",
        "print(y_test[:5].values)"
      ]
    },
    {
      "cell_type": "code",
      "execution_count": 10,
      "metadata": {
        "id": "gesz8Csk1-c2"
      },
      "outputs": [],
      "source": [
        "# 새 데이터 예측 예시\n",
        "new_data = pd.DataFrame([{\n",
        "    '메뉴명': '제육볶음',\n",
        "    '칼로리': 600,\n",
        "    '탄수화물': 50,\n",
        "    '단백질': 30,\n",
        "    '지방': 20,\n",
        "    '요일': '수요일',\n",
        "    '날씨': '맑음',\n",
        "    '학교행사': '없음',\n",
        "    '선호도': 4.0,\n",
        "    '제공인원': 200\n",
        "}])"
      ]
    },
    {
      "cell_type": "code",
      "execution_count": 11,
      "metadata": {
        "id": "oFWiZZy52AT4"
      },
      "outputs": [],
      "source": [
        "# 새 데이터 전처리\n",
        "new_data_encoded = pd.get_dummies(new_data)"
      ]
    },
    {
      "cell_type": "code",
      "execution_count": 12,
      "metadata": {
        "id": "Chafzy6y2DBS"
      },
      "outputs": [],
      "source": [
        "# 누락된 컬럼 채우기 (기존 학습 데이터 기준)\n",
        "new_data_encoded = new_data_encoded.reindex(columns=X_encoded.columns, fill_value=0)\n",
        "new_data_encoded[num_cols] = scaler.transform(new_data_encoded[num_cols])"
      ]
    },
    {
      "cell_type": "code",
      "execution_count": 13,
      "metadata": {
        "colab": {
          "base_uri": "https://localhost:8080/"
        },
        "id": "4k_jKGB72FjR",
        "outputId": "6e797e70-ba9f-49bb-ea8c-08934152005f"
      },
      "outputs": [
        {
          "name": "stdout",
          "output_type": "stream",
          "text": [
            "\u001b[1m1/1\u001b[0m \u001b[32m━━━━━━━━━━━━━━━━━━━━\u001b[0m\u001b[37m\u001b[0m \u001b[1m1s\u001b[0m 503ms/step\n",
            "예측된 잔반량: 0.04907676\n"
          ]
        }
      ],
      "source": [
        "# 예측\n",
        "predicted_leftover = model.predict(new_data_encoded)\n",
        "print(\"예측된 잔반량:\", predicted_leftover[0][0])"
      ]
    },
    {
      "cell_type": "code",
      "execution_count": null,
      "metadata": {
        "colab": {
          "base_uri": "https://localhost:8080/",
          "height": 425,
          "referenced_widgets": [
            "44e56fd962f543b388e4fdf7046aa7f5",
            "2d5c58abbf10401c80384c66e939a334",
            "49fa6fcfd96249ea9a51145060ad2b18",
            "faf05c8d0558489dae6765a34322ede5",
            "ee4cc52a75694e9b9fa16567fb393034",
            "36792ace84d54324bf486fb8cc98597c",
            "3879398cb5ae426d9eb5ff8d0f0f7f5a",
            "685787c8bceb4bae921e96c439a2e969",
            "a5518d5b39da4495a46a20a61d7ed2aa",
            "0811db90133241fbaaaf5da456c7fe84",
            "46146947fc0d411d84b60416bc9ed3d9",
            "1b5ee6c24699453eb6318e283440daca",
            "be8f26d2831a402798d9f52bf2cf22da",
            "c55a42f427e042139a3fce25508c9e15",
            "e0af5b51434b4ab89160b116ba0b1896",
            "dc46a6446e1b44b2ae97c3016cd3df4b",
            "5a33f8cb5448473686fee639e5aba97e",
            "da62656d07114f2eabed45c0dc73171f",
            "2c041311709b48978a078c71b2a11bc8",
            "3febfa0bd6ef43a589e86c0f387b3d23",
            "c22cdf83b7724ef0950b76f7fa27c5a5",
            "d332c0efabe7417e872b0110195b5af4",
            "78398a83db71451982beb9b478125151",
            "e56c29be34b14d21ba62ce9291689f38",
            "8fc673caec3845e1a6c0bcd6529eaece",
            "e7d04e63d7074bdf9eab211c57956268",
            "5775f2848e784f9c98fce7b0f4b6411d",
            "c0d9f5958ec7490d9957ab5c0a09c3e8",
            "58ec3c81f222435cb3f0edcdec470b66",
            "49d0cacb1e51487f8ba0c4002d4e5095",
            "08e449efdaff40dcbd11ab12a755a228",
            "e311b11bdc6c43a6895cfa73d5343ae2",
            "64c8c32097404622b920ef0331d2f734",
            "dbcdfef815a54816964b2535e0887be7",
            "d93831116fc24d898ea1b03ce2b44f35",
            "9ae41f2da0804dc6b2963ca8cea89cc4",
            "95c6de93fec64708b80f7fb8cf7a481c"
          ]
        },
        "id": "cK0BYOpk3N3E",
        "outputId": "14cf128a-e7b5-4182-b51b-d7a93a0851ab"
      },
      "outputs": [
        {
          "data": {
            "application/vnd.jupyter.widget-view+json": {
              "model_id": "8c0c84238205449fab72d926b825f588",
              "version_major": 2,
              "version_minor": 0
            },
            "text/plain": [
              "VBox(children=(Dropdown(description='메뉴명:', options=('제육볶음', '닭갈비', '오징어볶음', '생선까스', '된장찌개', '김치볶음밥', '순두부찌개',…"
            ]
          },
          "metadata": {},
          "output_type": "display_data"
        }
      ],
      "source": [
        "# import ipywidgets as widgets\n",
        "# from IPython.display import display, clear_output\n",
        "\n",
        "# # 메뉴, 요일, 날씨, 행사 선택지\n",
        "# 메뉴목록 = data['메뉴명'].unique().tolist()\n",
        "# 요일목록 = data['요일'].unique().tolist()\n",
        "# 날씨목록 = data['날씨'].unique().tolist()\n",
        "# 행사목록 = data['학교행사'].unique().tolist()\n",
        "\n",
        "# # 위젯 정의\n",
        "# menu_widget = widgets.Dropdown(options=메뉴목록, description='메뉴명:')\n",
        "# day_widget = widgets.Dropdown(options=요일목록, description='요일:')\n",
        "# weather_widget = widgets.Dropdown(options=날씨목록, description='날씨:')\n",
        "# event_widget = widgets.Dropdown(options=행사목록, description='행사:')\n",
        "\n",
        "# cal_widget = widgets.IntSlider(value=600, min=100, max=1000, step=10, description='칼로리:')\n",
        "# carb_widget = widgets.IntSlider(value=50, min=0, max=150, step=5, description='탄수화물:')\n",
        "# protein_widget = widgets.IntSlider(value=30, min=0, max=100, step=5, description='단백질:')\n",
        "# fat_widget = widgets.IntSlider(value=20, min=0, max=100, step=5, description='지방:')\n",
        "# preference_widget = widgets.FloatSlider(value=4.0, min=1.0, max=5.0, step=0.1, description='선호도:')\n",
        "# served_widget = widgets.IntSlider(value=200, min=1, max=1000, step=10, description='제공인원:')\n",
        "\n",
        "# predict_button = widgets.Button(description='잔반량 예측하기', button_style='success')\n",
        "# output_area = widgets.Output()\n",
        "\n",
        "# # 예측 함수\n",
        "# def predict_callback(b):\n",
        "#     with output_area:\n",
        "#         clear_output()\n",
        "\n",
        "#         # 입력값 DataFrame 구성\n",
        "#         input_df = pd.DataFrame([{\n",
        "#             '메뉴명': menu_widget.value,\n",
        "#             '칼로리': cal_widget.value,\n",
        "#             '탄수화물': carb_widget.value,\n",
        "#             '단백질': protein_widget.value,\n",
        "#             '지방': fat_widget.value,\n",
        "#             '요일': day_widget.value,\n",
        "#             '날씨': weather_widget.value,\n",
        "#             '학교행사': event_widget.value,\n",
        "#             '선호도': preference_widget.value,\n",
        "#             '제공인원': served_widget.value\n",
        "#         }])\n",
        "\n",
        "#         # 원핫 인코딩 및 정규화\n",
        "#         input_encoded = pd.get_dummies(input_df)\n",
        "#         input_encoded = input_encoded.reindex(columns=X_encoded.columns, fill_value=0)\n",
        "#         input_encoded[num_cols] = scaler.transform(input_encoded[num_cols])\n",
        "\n",
        "#         # 예측\n",
        "#         prediction = model.predict(input_encoded)\n",
        "#         print(f\"📊 예측된 잔반량: {prediction[0][0]:.2f} kg\")\n",
        "\n",
        "# # 버튼에 이벤트 연결\n",
        "# predict_button.on_click(predict_callback)\n",
        "\n",
        "# # UI 출력\n",
        "# display(widgets.VBox([\n",
        "#     menu_widget, day_widget, weather_widget, event_widget,\n",
        "#     cal_widget, carb_widget, protein_widget, fat_widget,\n",
        "#     preference_widget, served_widget,\n",
        "#     predict_button, output_area\n",
        "# ]))"
      ]
    },
    {
      "cell_type": "code",
      "execution_count": 22,
      "metadata": {},
      "outputs": [
        {
          "name": "stderr",
          "output_type": "stream",
          "text": [
            "c:\\Users\\syjsn\\OneDrive\\ドキュメント\\개인폴더\\파이썬\\.venv\\Lib\\site-packages\\keras\\src\\saving\\saving_lib.py:797: UserWarning: Skipping variable loading for optimizer 'rmsprop', because it has 6 variables whereas the saved optimizer has 10 variables. \n",
            "  saveable.load_own_variables(weights_store.get(inner_path))\n"
          ]
        }
      ],
      "source": [
        "# Calling `save('my_model.h5')` creates a h5 file `my_model.h5`.\n",
        "model.save(\"my_h5_model.keras\")\n",
        "\n",
        "reconstructed_model = keras.models.load_model(\"my_h5_model.keras\")\n"
      ]
    }
  ],
  "metadata": {
    "colab": {
      "provenance": []
    },
    "kernelspec": {
      "display_name": ".venv (3.11.9)",
      "language": "python",
      "name": "python3"
    },
    "language_info": {
      "codemirror_mode": {
        "name": "ipython",
        "version": 3
      },
      "file_extension": ".py",
      "mimetype": "text/x-python",
      "name": "python",
      "nbconvert_exporter": "python",
      "pygments_lexer": "ipython3",
      "version": "3.11.9"
    },
    "widgets": {
      "application/vnd.jupyter.widget-state+json": {
        "0811db90133241fbaaaf5da456c7fe84": {
          "model_module": "@jupyter-widgets/controls",
          "model_module_version": "1.5.0",
          "model_name": "FloatSliderModel",
          "state": {
            "_dom_classes": [],
            "_model_module": "@jupyter-widgets/controls",
            "_model_module_version": "1.5.0",
            "_model_name": "FloatSliderModel",
            "_view_count": null,
            "_view_module": "@jupyter-widgets/controls",
            "_view_module_version": "1.5.0",
            "_view_name": "FloatSliderView",
            "continuous_update": true,
            "description": "선호도:",
            "description_tooltip": null,
            "disabled": false,
            "layout": "IPY_MODEL_08e449efdaff40dcbd11ab12a755a228",
            "max": 5,
            "min": 1,
            "orientation": "horizontal",
            "readout": true,
            "readout_format": ".2f",
            "step": 0.1,
            "style": "IPY_MODEL_e311b11bdc6c43a6895cfa73d5343ae2",
            "value": 4
          }
        },
        "08e449efdaff40dcbd11ab12a755a228": {
          "model_module": "@jupyter-widgets/base",
          "model_module_version": "1.2.0",
          "model_name": "LayoutModel",
          "state": {
            "_model_module": "@jupyter-widgets/base",
            "_model_module_version": "1.2.0",
            "_model_name": "LayoutModel",
            "_view_count": null,
            "_view_module": "@jupyter-widgets/base",
            "_view_module_version": "1.2.0",
            "_view_name": "LayoutView",
            "align_content": null,
            "align_items": null,
            "align_self": null,
            "border": null,
            "bottom": null,
            "display": null,
            "flex": null,
            "flex_flow": null,
            "grid_area": null,
            "grid_auto_columns": null,
            "grid_auto_flow": null,
            "grid_auto_rows": null,
            "grid_column": null,
            "grid_gap": null,
            "grid_row": null,
            "grid_template_areas": null,
            "grid_template_columns": null,
            "grid_template_rows": null,
            "height": null,
            "justify_content": null,
            "justify_items": null,
            "left": null,
            "margin": null,
            "max_height": null,
            "max_width": null,
            "min_height": null,
            "min_width": null,
            "object_fit": null,
            "object_position": null,
            "order": null,
            "overflow": null,
            "overflow_x": null,
            "overflow_y": null,
            "padding": null,
            "right": null,
            "top": null,
            "visibility": null,
            "width": null
          }
        },
        "1b5ee6c24699453eb6318e283440daca": {
          "model_module": "@jupyter-widgets/controls",
          "model_module_version": "1.5.0",
          "model_name": "ButtonModel",
          "state": {
            "_dom_classes": [],
            "_model_module": "@jupyter-widgets/controls",
            "_model_module_version": "1.5.0",
            "_model_name": "ButtonModel",
            "_view_count": null,
            "_view_module": "@jupyter-widgets/controls",
            "_view_module_version": "1.5.0",
            "_view_name": "ButtonView",
            "button_style": "success",
            "description": "잔반량 예측하기",
            "disabled": false,
            "icon": "",
            "layout": "IPY_MODEL_d93831116fc24d898ea1b03ce2b44f35",
            "style": "IPY_MODEL_9ae41f2da0804dc6b2963ca8cea89cc4",
            "tooltip": ""
          }
        },
        "2c041311709b48978a078c71b2a11bc8": {
          "model_module": "@jupyter-widgets/base",
          "model_module_version": "1.2.0",
          "model_name": "LayoutModel",
          "state": {
            "_model_module": "@jupyter-widgets/base",
            "_model_module_version": "1.2.0",
            "_model_name": "LayoutModel",
            "_view_count": null,
            "_view_module": "@jupyter-widgets/base",
            "_view_module_version": "1.2.0",
            "_view_name": "LayoutView",
            "align_content": null,
            "align_items": null,
            "align_self": null,
            "border": null,
            "bottom": null,
            "display": null,
            "flex": null,
            "flex_flow": null,
            "grid_area": null,
            "grid_auto_columns": null,
            "grid_auto_flow": null,
            "grid_auto_rows": null,
            "grid_column": null,
            "grid_gap": null,
            "grid_row": null,
            "grid_template_areas": null,
            "grid_template_columns": null,
            "grid_template_rows": null,
            "height": null,
            "justify_content": null,
            "justify_items": null,
            "left": null,
            "margin": null,
            "max_height": null,
            "max_width": null,
            "min_height": null,
            "min_width": null,
            "object_fit": null,
            "object_position": null,
            "order": null,
            "overflow": null,
            "overflow_x": null,
            "overflow_y": null,
            "padding": null,
            "right": null,
            "top": null,
            "visibility": null,
            "width": null
          }
        },
        "2d5c58abbf10401c80384c66e939a334": {
          "model_module": "@jupyter-widgets/controls",
          "model_module_version": "1.5.0",
          "model_name": "DropdownModel",
          "state": {
            "_dom_classes": [],
            "_model_module": "@jupyter-widgets/controls",
            "_model_module_version": "1.5.0",
            "_model_name": "DropdownModel",
            "_options_labels": [
              "제육볶음",
              "닭갈비",
              "오징어볶음",
              "생선까스",
              "된장찌개",
              "김치볶음밥",
              "순두부찌개",
              "비빔밥",
              "치킨커틀릿",
              "북어국"
            ],
            "_view_count": null,
            "_view_module": "@jupyter-widgets/controls",
            "_view_module_version": "1.5.0",
            "_view_name": "DropdownView",
            "description": "메뉴명:",
            "description_tooltip": null,
            "disabled": false,
            "index": 0,
            "layout": "IPY_MODEL_e0af5b51434b4ab89160b116ba0b1896",
            "style": "IPY_MODEL_dc46a6446e1b44b2ae97c3016cd3df4b"
          }
        },
        "36792ace84d54324bf486fb8cc98597c": {
          "model_module": "@jupyter-widgets/controls",
          "model_module_version": "1.5.0",
          "model_name": "IntSliderModel",
          "state": {
            "_dom_classes": [],
            "_model_module": "@jupyter-widgets/controls",
            "_model_module_version": "1.5.0",
            "_model_name": "IntSliderModel",
            "_view_count": null,
            "_view_module": "@jupyter-widgets/controls",
            "_view_module_version": "1.5.0",
            "_view_name": "IntSliderView",
            "continuous_update": true,
            "description": "칼로리:",
            "description_tooltip": null,
            "disabled": false,
            "layout": "IPY_MODEL_78398a83db71451982beb9b478125151",
            "max": 1000,
            "min": 100,
            "orientation": "horizontal",
            "readout": true,
            "readout_format": "d",
            "step": 10,
            "style": "IPY_MODEL_e56c29be34b14d21ba62ce9291689f38",
            "value": 600
          }
        },
        "3879398cb5ae426d9eb5ff8d0f0f7f5a": {
          "model_module": "@jupyter-widgets/controls",
          "model_module_version": "1.5.0",
          "model_name": "IntSliderModel",
          "state": {
            "_dom_classes": [],
            "_model_module": "@jupyter-widgets/controls",
            "_model_module_version": "1.5.0",
            "_model_name": "IntSliderModel",
            "_view_count": null,
            "_view_module": "@jupyter-widgets/controls",
            "_view_module_version": "1.5.0",
            "_view_name": "IntSliderView",
            "continuous_update": true,
            "description": "탄수화물:",
            "description_tooltip": null,
            "disabled": false,
            "layout": "IPY_MODEL_8fc673caec3845e1a6c0bcd6529eaece",
            "max": 150,
            "min": 0,
            "orientation": "horizontal",
            "readout": true,
            "readout_format": "d",
            "step": 5,
            "style": "IPY_MODEL_e7d04e63d7074bdf9eab211c57956268",
            "value": 50
          }
        },
        "3febfa0bd6ef43a589e86c0f387b3d23": {
          "model_module": "@jupyter-widgets/controls",
          "model_module_version": "1.5.0",
          "model_name": "DescriptionStyleModel",
          "state": {
            "_model_module": "@jupyter-widgets/controls",
            "_model_module_version": "1.5.0",
            "_model_name": "DescriptionStyleModel",
            "_view_count": null,
            "_view_module": "@jupyter-widgets/base",
            "_view_module_version": "1.2.0",
            "_view_name": "StyleView",
            "description_width": ""
          }
        },
        "44e56fd962f543b388e4fdf7046aa7f5": {
          "model_module": "@jupyter-widgets/controls",
          "model_module_version": "1.5.0",
          "model_name": "VBoxModel",
          "state": {
            "_dom_classes": [],
            "_model_module": "@jupyter-widgets/controls",
            "_model_module_version": "1.5.0",
            "_model_name": "VBoxModel",
            "_view_count": null,
            "_view_module": "@jupyter-widgets/controls",
            "_view_module_version": "1.5.0",
            "_view_name": "VBoxView",
            "box_style": "",
            "children": [
              "IPY_MODEL_2d5c58abbf10401c80384c66e939a334",
              "IPY_MODEL_49fa6fcfd96249ea9a51145060ad2b18",
              "IPY_MODEL_faf05c8d0558489dae6765a34322ede5",
              "IPY_MODEL_ee4cc52a75694e9b9fa16567fb393034",
              "IPY_MODEL_36792ace84d54324bf486fb8cc98597c",
              "IPY_MODEL_3879398cb5ae426d9eb5ff8d0f0f7f5a",
              "IPY_MODEL_685787c8bceb4bae921e96c439a2e969",
              "IPY_MODEL_a5518d5b39da4495a46a20a61d7ed2aa",
              "IPY_MODEL_0811db90133241fbaaaf5da456c7fe84",
              "IPY_MODEL_46146947fc0d411d84b60416bc9ed3d9",
              "IPY_MODEL_1b5ee6c24699453eb6318e283440daca",
              "IPY_MODEL_be8f26d2831a402798d9f52bf2cf22da"
            ],
            "layout": "IPY_MODEL_c55a42f427e042139a3fce25508c9e15"
          }
        },
        "46146947fc0d411d84b60416bc9ed3d9": {
          "model_module": "@jupyter-widgets/controls",
          "model_module_version": "1.5.0",
          "model_name": "IntSliderModel",
          "state": {
            "_dom_classes": [],
            "_model_module": "@jupyter-widgets/controls",
            "_model_module_version": "1.5.0",
            "_model_name": "IntSliderModel",
            "_view_count": null,
            "_view_module": "@jupyter-widgets/controls",
            "_view_module_version": "1.5.0",
            "_view_name": "IntSliderView",
            "continuous_update": true,
            "description": "제공인원:",
            "description_tooltip": null,
            "disabled": false,
            "layout": "IPY_MODEL_64c8c32097404622b920ef0331d2f734",
            "max": 1000,
            "min": 1,
            "orientation": "horizontal",
            "readout": true,
            "readout_format": "d",
            "step": 10,
            "style": "IPY_MODEL_dbcdfef815a54816964b2535e0887be7",
            "value": 200
          }
        },
        "49d0cacb1e51487f8ba0c4002d4e5095": {
          "model_module": "@jupyter-widgets/controls",
          "model_module_version": "1.5.0",
          "model_name": "SliderStyleModel",
          "state": {
            "_model_module": "@jupyter-widgets/controls",
            "_model_module_version": "1.5.0",
            "_model_name": "SliderStyleModel",
            "_view_count": null,
            "_view_module": "@jupyter-widgets/base",
            "_view_module_version": "1.2.0",
            "_view_name": "StyleView",
            "description_width": "",
            "handle_color": null
          }
        },
        "49fa6fcfd96249ea9a51145060ad2b18": {
          "model_module": "@jupyter-widgets/controls",
          "model_module_version": "1.5.0",
          "model_name": "DropdownModel",
          "state": {
            "_dom_classes": [],
            "_model_module": "@jupyter-widgets/controls",
            "_model_module_version": "1.5.0",
            "_model_name": "DropdownModel",
            "_options_labels": [
              "화요일",
              "수요일",
              "목요일",
              "금요일",
              "월요일"
            ],
            "_view_count": null,
            "_view_module": "@jupyter-widgets/controls",
            "_view_module_version": "1.5.0",
            "_view_name": "DropdownView",
            "description": "요일:",
            "description_tooltip": null,
            "disabled": false,
            "index": 0,
            "layout": "IPY_MODEL_5a33f8cb5448473686fee639e5aba97e",
            "style": "IPY_MODEL_da62656d07114f2eabed45c0dc73171f"
          }
        },
        "5775f2848e784f9c98fce7b0f4b6411d": {
          "model_module": "@jupyter-widgets/base",
          "model_module_version": "1.2.0",
          "model_name": "LayoutModel",
          "state": {
            "_model_module": "@jupyter-widgets/base",
            "_model_module_version": "1.2.0",
            "_model_name": "LayoutModel",
            "_view_count": null,
            "_view_module": "@jupyter-widgets/base",
            "_view_module_version": "1.2.0",
            "_view_name": "LayoutView",
            "align_content": null,
            "align_items": null,
            "align_self": null,
            "border": null,
            "bottom": null,
            "display": null,
            "flex": null,
            "flex_flow": null,
            "grid_area": null,
            "grid_auto_columns": null,
            "grid_auto_flow": null,
            "grid_auto_rows": null,
            "grid_column": null,
            "grid_gap": null,
            "grid_row": null,
            "grid_template_areas": null,
            "grid_template_columns": null,
            "grid_template_rows": null,
            "height": null,
            "justify_content": null,
            "justify_items": null,
            "left": null,
            "margin": null,
            "max_height": null,
            "max_width": null,
            "min_height": null,
            "min_width": null,
            "object_fit": null,
            "object_position": null,
            "order": null,
            "overflow": null,
            "overflow_x": null,
            "overflow_y": null,
            "padding": null,
            "right": null,
            "top": null,
            "visibility": null,
            "width": null
          }
        },
        "58ec3c81f222435cb3f0edcdec470b66": {
          "model_module": "@jupyter-widgets/base",
          "model_module_version": "1.2.0",
          "model_name": "LayoutModel",
          "state": {
            "_model_module": "@jupyter-widgets/base",
            "_model_module_version": "1.2.0",
            "_model_name": "LayoutModel",
            "_view_count": null,
            "_view_module": "@jupyter-widgets/base",
            "_view_module_version": "1.2.0",
            "_view_name": "LayoutView",
            "align_content": null,
            "align_items": null,
            "align_self": null,
            "border": null,
            "bottom": null,
            "display": null,
            "flex": null,
            "flex_flow": null,
            "grid_area": null,
            "grid_auto_columns": null,
            "grid_auto_flow": null,
            "grid_auto_rows": null,
            "grid_column": null,
            "grid_gap": null,
            "grid_row": null,
            "grid_template_areas": null,
            "grid_template_columns": null,
            "grid_template_rows": null,
            "height": null,
            "justify_content": null,
            "justify_items": null,
            "left": null,
            "margin": null,
            "max_height": null,
            "max_width": null,
            "min_height": null,
            "min_width": null,
            "object_fit": null,
            "object_position": null,
            "order": null,
            "overflow": null,
            "overflow_x": null,
            "overflow_y": null,
            "padding": null,
            "right": null,
            "top": null,
            "visibility": null,
            "width": null
          }
        },
        "5a33f8cb5448473686fee639e5aba97e": {
          "model_module": "@jupyter-widgets/base",
          "model_module_version": "1.2.0",
          "model_name": "LayoutModel",
          "state": {
            "_model_module": "@jupyter-widgets/base",
            "_model_module_version": "1.2.0",
            "_model_name": "LayoutModel",
            "_view_count": null,
            "_view_module": "@jupyter-widgets/base",
            "_view_module_version": "1.2.0",
            "_view_name": "LayoutView",
            "align_content": null,
            "align_items": null,
            "align_self": null,
            "border": null,
            "bottom": null,
            "display": null,
            "flex": null,
            "flex_flow": null,
            "grid_area": null,
            "grid_auto_columns": null,
            "grid_auto_flow": null,
            "grid_auto_rows": null,
            "grid_column": null,
            "grid_gap": null,
            "grid_row": null,
            "grid_template_areas": null,
            "grid_template_columns": null,
            "grid_template_rows": null,
            "height": null,
            "justify_content": null,
            "justify_items": null,
            "left": null,
            "margin": null,
            "max_height": null,
            "max_width": null,
            "min_height": null,
            "min_width": null,
            "object_fit": null,
            "object_position": null,
            "order": null,
            "overflow": null,
            "overflow_x": null,
            "overflow_y": null,
            "padding": null,
            "right": null,
            "top": null,
            "visibility": null,
            "width": null
          }
        },
        "64c8c32097404622b920ef0331d2f734": {
          "model_module": "@jupyter-widgets/base",
          "model_module_version": "1.2.0",
          "model_name": "LayoutModel",
          "state": {
            "_model_module": "@jupyter-widgets/base",
            "_model_module_version": "1.2.0",
            "_model_name": "LayoutModel",
            "_view_count": null,
            "_view_module": "@jupyter-widgets/base",
            "_view_module_version": "1.2.0",
            "_view_name": "LayoutView",
            "align_content": null,
            "align_items": null,
            "align_self": null,
            "border": null,
            "bottom": null,
            "display": null,
            "flex": null,
            "flex_flow": null,
            "grid_area": null,
            "grid_auto_columns": null,
            "grid_auto_flow": null,
            "grid_auto_rows": null,
            "grid_column": null,
            "grid_gap": null,
            "grid_row": null,
            "grid_template_areas": null,
            "grid_template_columns": null,
            "grid_template_rows": null,
            "height": null,
            "justify_content": null,
            "justify_items": null,
            "left": null,
            "margin": null,
            "max_height": null,
            "max_width": null,
            "min_height": null,
            "min_width": null,
            "object_fit": null,
            "object_position": null,
            "order": null,
            "overflow": null,
            "overflow_x": null,
            "overflow_y": null,
            "padding": null,
            "right": null,
            "top": null,
            "visibility": null,
            "width": null
          }
        },
        "685787c8bceb4bae921e96c439a2e969": {
          "model_module": "@jupyter-widgets/controls",
          "model_module_version": "1.5.0",
          "model_name": "IntSliderModel",
          "state": {
            "_dom_classes": [],
            "_model_module": "@jupyter-widgets/controls",
            "_model_module_version": "1.5.0",
            "_model_name": "IntSliderModel",
            "_view_count": null,
            "_view_module": "@jupyter-widgets/controls",
            "_view_module_version": "1.5.0",
            "_view_name": "IntSliderView",
            "continuous_update": true,
            "description": "단백질:",
            "description_tooltip": null,
            "disabled": false,
            "layout": "IPY_MODEL_5775f2848e784f9c98fce7b0f4b6411d",
            "max": 100,
            "min": 0,
            "orientation": "horizontal",
            "readout": true,
            "readout_format": "d",
            "step": 5,
            "style": "IPY_MODEL_c0d9f5958ec7490d9957ab5c0a09c3e8",
            "value": 30
          }
        },
        "78398a83db71451982beb9b478125151": {
          "model_module": "@jupyter-widgets/base",
          "model_module_version": "1.2.0",
          "model_name": "LayoutModel",
          "state": {
            "_model_module": "@jupyter-widgets/base",
            "_model_module_version": "1.2.0",
            "_model_name": "LayoutModel",
            "_view_count": null,
            "_view_module": "@jupyter-widgets/base",
            "_view_module_version": "1.2.0",
            "_view_name": "LayoutView",
            "align_content": null,
            "align_items": null,
            "align_self": null,
            "border": null,
            "bottom": null,
            "display": null,
            "flex": null,
            "flex_flow": null,
            "grid_area": null,
            "grid_auto_columns": null,
            "grid_auto_flow": null,
            "grid_auto_rows": null,
            "grid_column": null,
            "grid_gap": null,
            "grid_row": null,
            "grid_template_areas": null,
            "grid_template_columns": null,
            "grid_template_rows": null,
            "height": null,
            "justify_content": null,
            "justify_items": null,
            "left": null,
            "margin": null,
            "max_height": null,
            "max_width": null,
            "min_height": null,
            "min_width": null,
            "object_fit": null,
            "object_position": null,
            "order": null,
            "overflow": null,
            "overflow_x": null,
            "overflow_y": null,
            "padding": null,
            "right": null,
            "top": null,
            "visibility": null,
            "width": null
          }
        },
        "8fc673caec3845e1a6c0bcd6529eaece": {
          "model_module": "@jupyter-widgets/base",
          "model_module_version": "1.2.0",
          "model_name": "LayoutModel",
          "state": {
            "_model_module": "@jupyter-widgets/base",
            "_model_module_version": "1.2.0",
            "_model_name": "LayoutModel",
            "_view_count": null,
            "_view_module": "@jupyter-widgets/base",
            "_view_module_version": "1.2.0",
            "_view_name": "LayoutView",
            "align_content": null,
            "align_items": null,
            "align_self": null,
            "border": null,
            "bottom": null,
            "display": null,
            "flex": null,
            "flex_flow": null,
            "grid_area": null,
            "grid_auto_columns": null,
            "grid_auto_flow": null,
            "grid_auto_rows": null,
            "grid_column": null,
            "grid_gap": null,
            "grid_row": null,
            "grid_template_areas": null,
            "grid_template_columns": null,
            "grid_template_rows": null,
            "height": null,
            "justify_content": null,
            "justify_items": null,
            "left": null,
            "margin": null,
            "max_height": null,
            "max_width": null,
            "min_height": null,
            "min_width": null,
            "object_fit": null,
            "object_position": null,
            "order": null,
            "overflow": null,
            "overflow_x": null,
            "overflow_y": null,
            "padding": null,
            "right": null,
            "top": null,
            "visibility": null,
            "width": null
          }
        },
        "95c6de93fec64708b80f7fb8cf7a481c": {
          "model_module": "@jupyter-widgets/base",
          "model_module_version": "1.2.0",
          "model_name": "LayoutModel",
          "state": {
            "_model_module": "@jupyter-widgets/base",
            "_model_module_version": "1.2.0",
            "_model_name": "LayoutModel",
            "_view_count": null,
            "_view_module": "@jupyter-widgets/base",
            "_view_module_version": "1.2.0",
            "_view_name": "LayoutView",
            "align_content": null,
            "align_items": null,
            "align_self": null,
            "border": null,
            "bottom": null,
            "display": null,
            "flex": null,
            "flex_flow": null,
            "grid_area": null,
            "grid_auto_columns": null,
            "grid_auto_flow": null,
            "grid_auto_rows": null,
            "grid_column": null,
            "grid_gap": null,
            "grid_row": null,
            "grid_template_areas": null,
            "grid_template_columns": null,
            "grid_template_rows": null,
            "height": null,
            "justify_content": null,
            "justify_items": null,
            "left": null,
            "margin": null,
            "max_height": null,
            "max_width": null,
            "min_height": null,
            "min_width": null,
            "object_fit": null,
            "object_position": null,
            "order": null,
            "overflow": null,
            "overflow_x": null,
            "overflow_y": null,
            "padding": null,
            "right": null,
            "top": null,
            "visibility": null,
            "width": null
          }
        },
        "9ae41f2da0804dc6b2963ca8cea89cc4": {
          "model_module": "@jupyter-widgets/controls",
          "model_module_version": "1.5.0",
          "model_name": "ButtonStyleModel",
          "state": {
            "_model_module": "@jupyter-widgets/controls",
            "_model_module_version": "1.5.0",
            "_model_name": "ButtonStyleModel",
            "_view_count": null,
            "_view_module": "@jupyter-widgets/base",
            "_view_module_version": "1.2.0",
            "_view_name": "StyleView",
            "button_color": null,
            "font_weight": ""
          }
        },
        "a5518d5b39da4495a46a20a61d7ed2aa": {
          "model_module": "@jupyter-widgets/controls",
          "model_module_version": "1.5.0",
          "model_name": "IntSliderModel",
          "state": {
            "_dom_classes": [],
            "_model_module": "@jupyter-widgets/controls",
            "_model_module_version": "1.5.0",
            "_model_name": "IntSliderModel",
            "_view_count": null,
            "_view_module": "@jupyter-widgets/controls",
            "_view_module_version": "1.5.0",
            "_view_name": "IntSliderView",
            "continuous_update": true,
            "description": "지방:",
            "description_tooltip": null,
            "disabled": false,
            "layout": "IPY_MODEL_58ec3c81f222435cb3f0edcdec470b66",
            "max": 100,
            "min": 0,
            "orientation": "horizontal",
            "readout": true,
            "readout_format": "d",
            "step": 5,
            "style": "IPY_MODEL_49d0cacb1e51487f8ba0c4002d4e5095",
            "value": 55
          }
        },
        "be8f26d2831a402798d9f52bf2cf22da": {
          "model_module": "@jupyter-widgets/output",
          "model_module_version": "1.0.0",
          "model_name": "OutputModel",
          "state": {
            "_dom_classes": [],
            "_model_module": "@jupyter-widgets/output",
            "_model_module_version": "1.0.0",
            "_model_name": "OutputModel",
            "_view_count": null,
            "_view_module": "@jupyter-widgets/output",
            "_view_module_version": "1.0.0",
            "_view_name": "OutputView",
            "layout": "IPY_MODEL_95c6de93fec64708b80f7fb8cf7a481c",
            "msg_id": "",
            "outputs": [
              {
                "name": "stdout",
                "output_type": "stream",
                "text": [
                  "\r\u001b[1m1/1\u001b[0m \u001b[32m━━━━━━━━━━━━━━━━━━━━\u001b[0m\u001b[37m\u001b[0m \u001b[1m0s\u001b[0m 19ms/step"
                ]
              },
              {
                "name": "stdout",
                "output_type": "stream",
                "text": [
                  "\b\b\b\b\b\b\b\b\b\b\b\b\b\b\b\b\b\b\b\b\b\b\b\b\b\b\b\b\b\b\b\b\b\b\b\b\b\r\u001b[1m1/1\u001b[0m \u001b[32m━━━━━━━━━━━━━━━━━━━━\u001b[0m\u001b[37m\u001b[0m \u001b[1m0s\u001b[0m 38ms/step\n"
                ]
              },
              {
                "name": "stdout",
                "output_type": "stream",
                "text": [
                  "📊 예측된 잔반량: 0.01 kg\n"
                ]
              }
            ]
          }
        },
        "c0d9f5958ec7490d9957ab5c0a09c3e8": {
          "model_module": "@jupyter-widgets/controls",
          "model_module_version": "1.5.0",
          "model_name": "SliderStyleModel",
          "state": {
            "_model_module": "@jupyter-widgets/controls",
            "_model_module_version": "1.5.0",
            "_model_name": "SliderStyleModel",
            "_view_count": null,
            "_view_module": "@jupyter-widgets/base",
            "_view_module_version": "1.2.0",
            "_view_name": "StyleView",
            "description_width": "",
            "handle_color": null
          }
        },
        "c22cdf83b7724ef0950b76f7fa27c5a5": {
          "model_module": "@jupyter-widgets/base",
          "model_module_version": "1.2.0",
          "model_name": "LayoutModel",
          "state": {
            "_model_module": "@jupyter-widgets/base",
            "_model_module_version": "1.2.0",
            "_model_name": "LayoutModel",
            "_view_count": null,
            "_view_module": "@jupyter-widgets/base",
            "_view_module_version": "1.2.0",
            "_view_name": "LayoutView",
            "align_content": null,
            "align_items": null,
            "align_self": null,
            "border": null,
            "bottom": null,
            "display": null,
            "flex": null,
            "flex_flow": null,
            "grid_area": null,
            "grid_auto_columns": null,
            "grid_auto_flow": null,
            "grid_auto_rows": null,
            "grid_column": null,
            "grid_gap": null,
            "grid_row": null,
            "grid_template_areas": null,
            "grid_template_columns": null,
            "grid_template_rows": null,
            "height": null,
            "justify_content": null,
            "justify_items": null,
            "left": null,
            "margin": null,
            "max_height": null,
            "max_width": null,
            "min_height": null,
            "min_width": null,
            "object_fit": null,
            "object_position": null,
            "order": null,
            "overflow": null,
            "overflow_x": null,
            "overflow_y": null,
            "padding": null,
            "right": null,
            "top": null,
            "visibility": null,
            "width": null
          }
        },
        "c55a42f427e042139a3fce25508c9e15": {
          "model_module": "@jupyter-widgets/base",
          "model_module_version": "1.2.0",
          "model_name": "LayoutModel",
          "state": {
            "_model_module": "@jupyter-widgets/base",
            "_model_module_version": "1.2.0",
            "_model_name": "LayoutModel",
            "_view_count": null,
            "_view_module": "@jupyter-widgets/base",
            "_view_module_version": "1.2.0",
            "_view_name": "LayoutView",
            "align_content": null,
            "align_items": null,
            "align_self": null,
            "border": null,
            "bottom": null,
            "display": null,
            "flex": null,
            "flex_flow": null,
            "grid_area": null,
            "grid_auto_columns": null,
            "grid_auto_flow": null,
            "grid_auto_rows": null,
            "grid_column": null,
            "grid_gap": null,
            "grid_row": null,
            "grid_template_areas": null,
            "grid_template_columns": null,
            "grid_template_rows": null,
            "height": null,
            "justify_content": null,
            "justify_items": null,
            "left": null,
            "margin": null,
            "max_height": null,
            "max_width": null,
            "min_height": null,
            "min_width": null,
            "object_fit": null,
            "object_position": null,
            "order": null,
            "overflow": null,
            "overflow_x": null,
            "overflow_y": null,
            "padding": null,
            "right": null,
            "top": null,
            "visibility": null,
            "width": null
          }
        },
        "d332c0efabe7417e872b0110195b5af4": {
          "model_module": "@jupyter-widgets/controls",
          "model_module_version": "1.5.0",
          "model_name": "DescriptionStyleModel",
          "state": {
            "_model_module": "@jupyter-widgets/controls",
            "_model_module_version": "1.5.0",
            "_model_name": "DescriptionStyleModel",
            "_view_count": null,
            "_view_module": "@jupyter-widgets/base",
            "_view_module_version": "1.2.0",
            "_view_name": "StyleView",
            "description_width": ""
          }
        },
        "d93831116fc24d898ea1b03ce2b44f35": {
          "model_module": "@jupyter-widgets/base",
          "model_module_version": "1.2.0",
          "model_name": "LayoutModel",
          "state": {
            "_model_module": "@jupyter-widgets/base",
            "_model_module_version": "1.2.0",
            "_model_name": "LayoutModel",
            "_view_count": null,
            "_view_module": "@jupyter-widgets/base",
            "_view_module_version": "1.2.0",
            "_view_name": "LayoutView",
            "align_content": null,
            "align_items": null,
            "align_self": null,
            "border": null,
            "bottom": null,
            "display": null,
            "flex": null,
            "flex_flow": null,
            "grid_area": null,
            "grid_auto_columns": null,
            "grid_auto_flow": null,
            "grid_auto_rows": null,
            "grid_column": null,
            "grid_gap": null,
            "grid_row": null,
            "grid_template_areas": null,
            "grid_template_columns": null,
            "grid_template_rows": null,
            "height": null,
            "justify_content": null,
            "justify_items": null,
            "left": null,
            "margin": null,
            "max_height": null,
            "max_width": null,
            "min_height": null,
            "min_width": null,
            "object_fit": null,
            "object_position": null,
            "order": null,
            "overflow": null,
            "overflow_x": null,
            "overflow_y": null,
            "padding": null,
            "right": null,
            "top": null,
            "visibility": null,
            "width": null
          }
        },
        "da62656d07114f2eabed45c0dc73171f": {
          "model_module": "@jupyter-widgets/controls",
          "model_module_version": "1.5.0",
          "model_name": "DescriptionStyleModel",
          "state": {
            "_model_module": "@jupyter-widgets/controls",
            "_model_module_version": "1.5.0",
            "_model_name": "DescriptionStyleModel",
            "_view_count": null,
            "_view_module": "@jupyter-widgets/base",
            "_view_module_version": "1.2.0",
            "_view_name": "StyleView",
            "description_width": ""
          }
        },
        "dbcdfef815a54816964b2535e0887be7": {
          "model_module": "@jupyter-widgets/controls",
          "model_module_version": "1.5.0",
          "model_name": "SliderStyleModel",
          "state": {
            "_model_module": "@jupyter-widgets/controls",
            "_model_module_version": "1.5.0",
            "_model_name": "SliderStyleModel",
            "_view_count": null,
            "_view_module": "@jupyter-widgets/base",
            "_view_module_version": "1.2.0",
            "_view_name": "StyleView",
            "description_width": "",
            "handle_color": null
          }
        },
        "dc46a6446e1b44b2ae97c3016cd3df4b": {
          "model_module": "@jupyter-widgets/controls",
          "model_module_version": "1.5.0",
          "model_name": "DescriptionStyleModel",
          "state": {
            "_model_module": "@jupyter-widgets/controls",
            "_model_module_version": "1.5.0",
            "_model_name": "DescriptionStyleModel",
            "_view_count": null,
            "_view_module": "@jupyter-widgets/base",
            "_view_module_version": "1.2.0",
            "_view_name": "StyleView",
            "description_width": ""
          }
        },
        "e0af5b51434b4ab89160b116ba0b1896": {
          "model_module": "@jupyter-widgets/base",
          "model_module_version": "1.2.0",
          "model_name": "LayoutModel",
          "state": {
            "_model_module": "@jupyter-widgets/base",
            "_model_module_version": "1.2.0",
            "_model_name": "LayoutModel",
            "_view_count": null,
            "_view_module": "@jupyter-widgets/base",
            "_view_module_version": "1.2.0",
            "_view_name": "LayoutView",
            "align_content": null,
            "align_items": null,
            "align_self": null,
            "border": null,
            "bottom": null,
            "display": null,
            "flex": null,
            "flex_flow": null,
            "grid_area": null,
            "grid_auto_columns": null,
            "grid_auto_flow": null,
            "grid_auto_rows": null,
            "grid_column": null,
            "grid_gap": null,
            "grid_row": null,
            "grid_template_areas": null,
            "grid_template_columns": null,
            "grid_template_rows": null,
            "height": null,
            "justify_content": null,
            "justify_items": null,
            "left": null,
            "margin": null,
            "max_height": null,
            "max_width": null,
            "min_height": null,
            "min_width": null,
            "object_fit": null,
            "object_position": null,
            "order": null,
            "overflow": null,
            "overflow_x": null,
            "overflow_y": null,
            "padding": null,
            "right": null,
            "top": null,
            "visibility": null,
            "width": null
          }
        },
        "e311b11bdc6c43a6895cfa73d5343ae2": {
          "model_module": "@jupyter-widgets/controls",
          "model_module_version": "1.5.0",
          "model_name": "SliderStyleModel",
          "state": {
            "_model_module": "@jupyter-widgets/controls",
            "_model_module_version": "1.5.0",
            "_model_name": "SliderStyleModel",
            "_view_count": null,
            "_view_module": "@jupyter-widgets/base",
            "_view_module_version": "1.2.0",
            "_view_name": "StyleView",
            "description_width": "",
            "handle_color": null
          }
        },
        "e56c29be34b14d21ba62ce9291689f38": {
          "model_module": "@jupyter-widgets/controls",
          "model_module_version": "1.5.0",
          "model_name": "SliderStyleModel",
          "state": {
            "_model_module": "@jupyter-widgets/controls",
            "_model_module_version": "1.5.0",
            "_model_name": "SliderStyleModel",
            "_view_count": null,
            "_view_module": "@jupyter-widgets/base",
            "_view_module_version": "1.2.0",
            "_view_name": "StyleView",
            "description_width": "",
            "handle_color": null
          }
        },
        "e7d04e63d7074bdf9eab211c57956268": {
          "model_module": "@jupyter-widgets/controls",
          "model_module_version": "1.5.0",
          "model_name": "SliderStyleModel",
          "state": {
            "_model_module": "@jupyter-widgets/controls",
            "_model_module_version": "1.5.0",
            "_model_name": "SliderStyleModel",
            "_view_count": null,
            "_view_module": "@jupyter-widgets/base",
            "_view_module_version": "1.2.0",
            "_view_name": "StyleView",
            "description_width": "",
            "handle_color": null
          }
        },
        "ee4cc52a75694e9b9fa16567fb393034": {
          "model_module": "@jupyter-widgets/controls",
          "model_module_version": "1.5.0",
          "model_name": "DropdownModel",
          "state": {
            "_dom_classes": [],
            "_model_module": "@jupyter-widgets/controls",
            "_model_module_version": "1.5.0",
            "_model_name": "DropdownModel",
            "_options_labels": [
              "없음",
              "소풍",
              "체육대회",
              "과학행사",
              "축제"
            ],
            "_view_count": null,
            "_view_module": "@jupyter-widgets/controls",
            "_view_module_version": "1.5.0",
            "_view_name": "DropdownView",
            "description": "행사:",
            "description_tooltip": null,
            "disabled": false,
            "index": 0,
            "layout": "IPY_MODEL_c22cdf83b7724ef0950b76f7fa27c5a5",
            "style": "IPY_MODEL_d332c0efabe7417e872b0110195b5af4"
          }
        },
        "faf05c8d0558489dae6765a34322ede5": {
          "model_module": "@jupyter-widgets/controls",
          "model_module_version": "1.5.0",
          "model_name": "DropdownModel",
          "state": {
            "_dom_classes": [],
            "_model_module": "@jupyter-widgets/controls",
            "_model_module_version": "1.5.0",
            "_model_name": "DropdownModel",
            "_options_labels": [
              "맑음",
              "흐림",
              "비"
            ],
            "_view_count": null,
            "_view_module": "@jupyter-widgets/controls",
            "_view_module_version": "1.5.0",
            "_view_name": "DropdownView",
            "description": "날씨:",
            "description_tooltip": null,
            "disabled": false,
            "index": 0,
            "layout": "IPY_MODEL_2c041311709b48978a078c71b2a11bc8",
            "style": "IPY_MODEL_3febfa0bd6ef43a589e86c0f387b3d23"
          }
        }
      }
    }
  },
  "nbformat": 4,
  "nbformat_minor": 0
}
