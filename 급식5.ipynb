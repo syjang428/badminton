{
 "cells": [
  {
   "cell_type": "code",
   "execution_count": null,
   "id": "2d88abce",
   "metadata": {},
   "outputs": [],
   "source": [
    "import pandas as pd\n",
    "import tensorflow as tf\n",
    "from sklearn.model_selection import train_test_split\n",
    "from sklearn.preprocessing import StandardScaler\n",
    "from tensorflow import keras\n",
    "\n",
    "# ✅ 데이터 불러오기\n",
    "file_path = '/mnt/data/연간_급식_데이터.csv'\n",
    "data = pd.read_csv(file_path, encoding='cp949')\n",
    "\n",
    "# ✅ 독립변수 및 종속변수 분리\n",
    "X = data[['선호도', '기온', '계절', '1학년_남', '1학년_여', '2학년_남', '2학년_여', '3학년_남', '3학년_여', '행사']]\n",
    "y = data[['잔반량']]\n",
    "\n",
    "# ✅ 범주형 변수 원핫 인코딩\n",
    "X_encoded = pd.get_dummies(X, columns=['계절', '행사'])\n",
    "\n",
    "# ✅ 수치형 변수 정규화\n",
    "scaler = StandardScaler()\n",
    "num_cols = ['선호도', '기온', '1학년_남', '1학년_여', '2학년_남', '2학년_여', '3학년_남', '3학년_여']\n",
    "X_encoded[num_cols] = scaler.fit_transform(X_encoded[num_cols])\n",
    "\n",
    "# ✅ 학습 / 검증 데이터 분리\n",
    "X_train, X_test, y_train, y_test = train_test_split(X_encoded, y, test_size=0.2, random_state=42)\n",
    "\n",
    "# ✅ 모델 정의 (MLP)\n",
    "input_layer = tf.keras.layers.Input(shape=(X_encoded.shape[1],))\n",
    "x = tf.keras.layers.Dense(32, activation='relu')(input_layer)\n",
    "x = tf.keras.layers.Dense(16, activation='relu')(x)\n",
    "output_layer = tf.keras.layers.Dense(1)(x)\n",
    "\n",
    "model = tf.keras.models.Model(inputs=input_layer, outputs=output_layer)"
   ]
  },
  {
   "cell_type": "code",
   "execution_count": null,
   "id": "88830c3c",
   "metadata": {},
   "outputs": [],
   "source": [
    "\n",
    "# ✅ 모델 컴파일 및 학습\n",
    "model.compile(optimizer='adam', loss='mse')\n",
    "model.fit(X_train, y_train, epochs=10, batch_size=16)"
   ]
  },
  {
   "cell_type": "code",
   "execution_count": null,
   "id": "5b7c723c",
   "metadata": {},
   "outputs": [],
   "source": [
    "# ✅ 테스트셋 예측 결과 확인\n",
    "print(\"예측 결과 (테스트셋 일부):\")\n",
    "print(model.predict(X_test[:5]))\n",
    "print(\"실제 잔반량:\")\n",
    "print(y_test[:5].values)\n",
    "\n",
    "# ✅ 새 데이터 예측 예시\n",
    "new_input = pd.DataFrame([{\n",
    "    '선호도': 4.5,\n",
    "    '기온': 25,\n",
    "    '계절': '여름',\n",
    "    '1학년_남': 50,\n",
    "    '1학년_여': 45,\n",
    "    '2학년_남': 48,\n",
    "    '2학년_여': 50,\n",
    "    '3학년_남': 47,\n",
    "    '3학년_여': 46,\n",
    "    '행사': '없음'\n",
    "}])\n",
    "\n",
    "# 새 데이터 전처리\n",
    "new_encoded = pd.get_dummies(new_input)\n",
    "new_encoded = new_encoded.reindex(columns=X_encoded.columns, fill_value=0)\n",
    "new_encoded[num_cols] = scaler.transform(new_encoded[num_cols])\n",
    "\n",
    "# 새 데이터 예측\n",
    "predicted_leftover = model.predict(new_encoded)\n",
    "print(\"예측된 잔반량:\", predicted_leftover[0][0])\n",
    "\n",
    "# ✅ 모델 저장 및 로딩\n",
    "model.save(\"leftover_prediction_model.keras\")\n",
    "reconstructed_model = keras.models.load_model(\"leftover_prediction_model.keras\")"
   ]
  }
 ],
 "metadata": {
  "language_info": {
   "name": "python"
  }
 },
 "nbformat": 4,
 "nbformat_minor": 5
}
